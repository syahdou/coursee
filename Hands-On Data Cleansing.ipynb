{
 "cells": [
  {
   "cell_type": "markdown",
   "metadata": {
    "id": "PJz1N2hpddiG"
   },
   "source": [
    "# Import Libraries"
   ]
  },
  {
   "cell_type": "code",
   "execution_count": 20,
   "metadata": {
    "colab": {
     "base_uri": "https://localhost:8080/"
    },
    "executionInfo": {
     "elapsed": 3438,
     "status": "ok",
     "timestamp": 1642905146223,
     "user": {
      "displayName": "Pararawendy Indarjo",
      "photoUrl": "https://lh3.googleusercontent.com/a-/AOh14GioQ0c_uukSFDoTcJVdqexZctAqHkGZbwVqv9WxOw=s64",
      "userId": "09035664507663317723"
     },
     "user_tz": -420
    },
    "id": "I-Ygmj6Sd7dE",
    "outputId": "fdd22cd6-4739-4e43-af9f-d2832010eeb5"
   },
   "outputs": [
    {
     "name": "stdout",
     "output_type": "stream",
     "text": [
      "Drive already mounted at /content/drive; to attempt to forcibly remount, call drive.mount(\"/content/drive\", force_remount=True).\n"
     ]
    }
   ],
   "source": [
    "from google.colab import drive\n",
    "drive.mount('/content/drive')"
   ]
  },
  {
   "cell_type": "code",
   "execution_count": 21,
   "metadata": {
    "executionInfo": {
     "elapsed": 379,
     "status": "ok",
     "timestamp": 1642905401881,
     "user": {
      "displayName": "Pararawendy Indarjo",
      "photoUrl": "https://lh3.googleusercontent.com/a-/AOh14GioQ0c_uukSFDoTcJVdqexZctAqHkGZbwVqv9WxOw=s64",
      "userId": "09035664507663317723"
     },
     "user_tz": -420
    },
    "id": "R0d8-03-cuFE"
   },
   "outputs": [],
   "source": [
    "import numpy as np\n",
    "import pandas as pd\n",
    "import matplotlib.pyplot as plt\n",
    "import seaborn as sns"
   ]
  },
  {
   "cell_type": "markdown",
   "metadata": {
    "id": "L-aiwRvGul7R"
   },
   "source": [
    "# Load Dataset"
   ]
  },
  {
   "cell_type": "code",
   "execution_count": 22,
   "metadata": {
    "executionInfo": {
     "elapsed": 343,
     "status": "ok",
     "timestamp": 1642905445426,
     "user": {
      "displayName": "Pararawendy Indarjo",
      "photoUrl": "https://lh3.googleusercontent.com/a-/AOh14GioQ0c_uukSFDoTcJVdqexZctAqHkGZbwVqv9WxOw=s64",
      "userId": "09035664507663317723"
     },
     "user_tz": -420
    },
    "id": "mBoNRgpaumf4"
   },
   "outputs": [],
   "source": [
    "# change the path according to your file location in your Google Drive\n",
    "df = pd.read_csv('/content/drive/MyDrive/Rakamin/data/botak.csv')"
   ]
  },
  {
   "cell_type": "code",
   "execution_count": 23,
   "metadata": {
    "colab": {
     "base_uri": "https://localhost:8080/"
    },
    "executionInfo": {
     "elapsed": 482,
     "status": "ok",
     "timestamp": 1642905466187,
     "user": {
      "displayName": "Pararawendy Indarjo",
      "photoUrl": "https://lh3.googleusercontent.com/a-/AOh14GioQ0c_uukSFDoTcJVdqexZctAqHkGZbwVqv9WxOw=s64",
      "userId": "09035664507663317723"
     },
     "user_tz": -420
    },
    "id": "WpHm2z-0q1l8",
    "outputId": "37ac761e-a8cb-42df-8d30-7cebf98ffd5f"
   },
   "outputs": [
    {
     "name": "stdout",
     "output_type": "stream",
     "text": [
      "<class 'pandas.core.frame.DataFrame'>\n",
      "RangeIndex: 7991 entries, 0 to 7990\n",
      "Data columns (total 13 columns):\n",
      " #   Column         Non-Null Count  Dtype  \n",
      "---  ------         --------------  -----  \n",
      " 0   umur           7991 non-null   float64\n",
      " 1   jenis_kelamin  7982 non-null   object \n",
      " 2   pekerjaan      7924 non-null   object \n",
      " 3   provinsi       7991 non-null   object \n",
      " 4   gaji           7968 non-null   float64\n",
      " 5   is_menikah     7991 non-null   int64  \n",
      " 6   is_keturunan   7976 non-null   float64\n",
      " 7   berat          7952 non-null   float64\n",
      " 8   tinggi         7991 non-null   float64\n",
      " 9   sampo          7934 non-null   object \n",
      " 10  is_merokok     7991 non-null   int64  \n",
      " 11  pendidikan     7991 non-null   object \n",
      " 12  botak_prob     7991 non-null   float64\n",
      "dtypes: float64(6), int64(2), object(5)\n",
      "memory usage: 811.7+ KB\n"
     ]
    }
   ],
   "source": [
    "# informasi general tentang dataframe\n",
    "df.info()"
   ]
  },
  {
   "cell_type": "markdown",
   "metadata": {
    "id": "AKy3JX7au0Zp"
   },
   "source": [
    "Pengamatan\\:\n",
    "1. Data terdiri dari 7991 baris\n",
    "2. Tampak beberapa kolom masih memiliki null/missing values (Non-Null Count < jumlah baris)\n",
    "3. Sepertinya tidak ada issue yang mencolok pada tipe data untuk setiap kolom (sudah sesuai)"
   ]
  },
  {
   "cell_type": "markdown",
   "metadata": {
    "id": "pn4NevFcvaaR"
   },
   "source": [
    "## Cuplikan Data"
   ]
  },
  {
   "cell_type": "code",
   "execution_count": 24,
   "metadata": {
    "colab": {
     "base_uri": "https://localhost:8080/",
     "height": 206
    },
    "executionInfo": {
     "elapsed": 2721,
     "status": "ok",
     "timestamp": 1642905649399,
     "user": {
      "displayName": "Pararawendy Indarjo",
      "photoUrl": "https://lh3.googleusercontent.com/a-/AOh14GioQ0c_uukSFDoTcJVdqexZctAqHkGZbwVqv9WxOw=s64",
      "userId": "09035664507663317723"
     },
     "user_tz": -420
    },
    "id": "tv2j2hY4vfBD",
    "outputId": "0c69e5f9-b277-40d9-ce3f-2069a29de644"
   },
   "outputs": [
    {
     "data": {
      "text/html": [
       "\n",
       "  <div id=\"df-9f1c5adc-cdf7-439c-950e-8bfe7d82f1ca\">\n",
       "    <div class=\"colab-df-container\">\n",
       "      <div>\n",
       "<style scoped>\n",
       "    .dataframe tbody tr th:only-of-type {\n",
       "        vertical-align: middle;\n",
       "    }\n",
       "\n",
       "    .dataframe tbody tr th {\n",
       "        vertical-align: top;\n",
       "    }\n",
       "\n",
       "    .dataframe thead th {\n",
       "        text-align: right;\n",
       "    }\n",
       "</style>\n",
       "<table border=\"1\" class=\"dataframe\">\n",
       "  <thead>\n",
       "    <tr style=\"text-align: right;\">\n",
       "      <th></th>\n",
       "      <th>umur</th>\n",
       "      <th>jenis_kelamin</th>\n",
       "      <th>pekerjaan</th>\n",
       "      <th>provinsi</th>\n",
       "      <th>gaji</th>\n",
       "      <th>is_menikah</th>\n",
       "      <th>is_keturunan</th>\n",
       "      <th>berat</th>\n",
       "      <th>tinggi</th>\n",
       "      <th>sampo</th>\n",
       "      <th>is_merokok</th>\n",
       "      <th>pendidikan</th>\n",
       "      <th>botak_prob</th>\n",
       "    </tr>\n",
       "  </thead>\n",
       "  <tbody>\n",
       "    <tr>\n",
       "      <th>0</th>\n",
       "      <td>42.0</td>\n",
       "      <td>Laki-laki</td>\n",
       "      <td>PNS</td>\n",
       "      <td>Padang</td>\n",
       "      <td>7.864005e+06</td>\n",
       "      <td>0</td>\n",
       "      <td>0.0</td>\n",
       "      <td>61.928685</td>\n",
       "      <td>152.174164</td>\n",
       "      <td>Deadbuoy</td>\n",
       "      <td>1</td>\n",
       "      <td>S1</td>\n",
       "      <td>0.487655</td>\n",
       "    </tr>\n",
       "    <tr>\n",
       "      <th>1</th>\n",
       "      <td>33.0</td>\n",
       "      <td>Laki-laki</td>\n",
       "      <td>Pegawai swasta</td>\n",
       "      <td>Palangkaraya</td>\n",
       "      <td>6.492662e+06</td>\n",
       "      <td>0</td>\n",
       "      <td>0.0</td>\n",
       "      <td>49.374507</td>\n",
       "      <td>152.822969</td>\n",
       "      <td>Moonsilk</td>\n",
       "      <td>1</td>\n",
       "      <td>SMA</td>\n",
       "      <td>0.297270</td>\n",
       "    </tr>\n",
       "    <tr>\n",
       "      <th>2</th>\n",
       "      <td>59.0</td>\n",
       "      <td>Laki-laki</td>\n",
       "      <td>Freelance</td>\n",
       "      <td>Serang</td>\n",
       "      <td>8.086303e+06</td>\n",
       "      <td>1</td>\n",
       "      <td>0.0</td>\n",
       "      <td>59.072807</td>\n",
       "      <td>159.911047</td>\n",
       "      <td>Merpati</td>\n",
       "      <td>1</td>\n",
       "      <td>S1</td>\n",
       "      <td>0.467848</td>\n",
       "    </tr>\n",
       "    <tr>\n",
       "      <th>3</th>\n",
       "      <td>38.0</td>\n",
       "      <td>Laki-laki</td>\n",
       "      <td>Pegawai swasta</td>\n",
       "      <td>Gorontalo</td>\n",
       "      <td>1.147321e+07</td>\n",
       "      <td>0</td>\n",
       "      <td>1.0</td>\n",
       "      <td>68.338014</td>\n",
       "      <td>162.558997</td>\n",
       "      <td>Moonsilk</td>\n",
       "      <td>0</td>\n",
       "      <td>S1</td>\n",
       "      <td>0.616418</td>\n",
       "    </tr>\n",
       "    <tr>\n",
       "      <th>4</th>\n",
       "      <td>33.0</td>\n",
       "      <td>Perempuan</td>\n",
       "      <td>Freelance</td>\n",
       "      <td>Tanjungselor</td>\n",
       "      <td>1.475942e+07</td>\n",
       "      <td>0</td>\n",
       "      <td>0.0</td>\n",
       "      <td>53.769996</td>\n",
       "      <td>154.579510</td>\n",
       "      <td>Pantone</td>\n",
       "      <td>1</td>\n",
       "      <td>S2</td>\n",
       "      <td>0.115439</td>\n",
       "    </tr>\n",
       "  </tbody>\n",
       "</table>\n",
       "</div>\n",
       "      <button class=\"colab-df-convert\" onclick=\"convertToInteractive('df-9f1c5adc-cdf7-439c-950e-8bfe7d82f1ca')\"\n",
       "              title=\"Convert this dataframe to an interactive table.\"\n",
       "              style=\"display:none;\">\n",
       "        \n",
       "  <svg xmlns=\"http://www.w3.org/2000/svg\" height=\"24px\"viewBox=\"0 0 24 24\"\n",
       "       width=\"24px\">\n",
       "    <path d=\"M0 0h24v24H0V0z\" fill=\"none\"/>\n",
       "    <path d=\"M18.56 5.44l.94 2.06.94-2.06 2.06-.94-2.06-.94-.94-2.06-.94 2.06-2.06.94zm-11 1L8.5 8.5l.94-2.06 2.06-.94-2.06-.94L8.5 2.5l-.94 2.06-2.06.94zm10 10l.94 2.06.94-2.06 2.06-.94-2.06-.94-.94-2.06-.94 2.06-2.06.94z\"/><path d=\"M17.41 7.96l-1.37-1.37c-.4-.4-.92-.59-1.43-.59-.52 0-1.04.2-1.43.59L10.3 9.45l-7.72 7.72c-.78.78-.78 2.05 0 2.83L4 21.41c.39.39.9.59 1.41.59.51 0 1.02-.2 1.41-.59l7.78-7.78 2.81-2.81c.8-.78.8-2.07 0-2.86zM5.41 20L4 18.59l7.72-7.72 1.47 1.35L5.41 20z\"/>\n",
       "  </svg>\n",
       "      </button>\n",
       "      \n",
       "  <style>\n",
       "    .colab-df-container {\n",
       "      display:flex;\n",
       "      flex-wrap:wrap;\n",
       "      gap: 12px;\n",
       "    }\n",
       "\n",
       "    .colab-df-convert {\n",
       "      background-color: #E8F0FE;\n",
       "      border: none;\n",
       "      border-radius: 50%;\n",
       "      cursor: pointer;\n",
       "      display: none;\n",
       "      fill: #1967D2;\n",
       "      height: 32px;\n",
       "      padding: 0 0 0 0;\n",
       "      width: 32px;\n",
       "    }\n",
       "\n",
       "    .colab-df-convert:hover {\n",
       "      background-color: #E2EBFA;\n",
       "      box-shadow: 0px 1px 2px rgba(60, 64, 67, 0.3), 0px 1px 3px 1px rgba(60, 64, 67, 0.15);\n",
       "      fill: #174EA6;\n",
       "    }\n",
       "\n",
       "    [theme=dark] .colab-df-convert {\n",
       "      background-color: #3B4455;\n",
       "      fill: #D2E3FC;\n",
       "    }\n",
       "\n",
       "    [theme=dark] .colab-df-convert:hover {\n",
       "      background-color: #434B5C;\n",
       "      box-shadow: 0px 1px 3px 1px rgba(0, 0, 0, 0.15);\n",
       "      filter: drop-shadow(0px 1px 2px rgba(0, 0, 0, 0.3));\n",
       "      fill: #FFFFFF;\n",
       "    }\n",
       "  </style>\n",
       "\n",
       "      <script>\n",
       "        const buttonEl =\n",
       "          document.querySelector('#df-9f1c5adc-cdf7-439c-950e-8bfe7d82f1ca button.colab-df-convert');\n",
       "        buttonEl.style.display =\n",
       "          google.colab.kernel.accessAllowed ? 'block' : 'none';\n",
       "\n",
       "        async function convertToInteractive(key) {\n",
       "          const element = document.querySelector('#df-9f1c5adc-cdf7-439c-950e-8bfe7d82f1ca');\n",
       "          const dataTable =\n",
       "            await google.colab.kernel.invokeFunction('convertToInteractive',\n",
       "                                                     [key], {});\n",
       "          if (!dataTable) return;\n",
       "\n",
       "          const docLinkHtml = 'Like what you see? Visit the ' +\n",
       "            '<a target=\"_blank\" href=https://colab.research.google.com/notebooks/data_table.ipynb>data table notebook</a>'\n",
       "            + ' to learn more about interactive tables.';\n",
       "          element.innerHTML = '';\n",
       "          dataTable['output_type'] = 'display_data';\n",
       "          await google.colab.output.renderOutput(dataTable, element);\n",
       "          const docLink = document.createElement('div');\n",
       "          docLink.innerHTML = docLinkHtml;\n",
       "          element.appendChild(docLink);\n",
       "        }\n",
       "      </script>\n",
       "    </div>\n",
       "  </div>\n",
       "  "
      ],
      "text/plain": [
       "   umur jenis_kelamin       pekerjaan  ... is_merokok  pendidikan  botak_prob\n",
       "0  42.0     Laki-laki             PNS  ...          1          S1    0.487655\n",
       "1  33.0     Laki-laki  Pegawai swasta  ...          1         SMA    0.297270\n",
       "2  59.0     Laki-laki       Freelance  ...          1          S1    0.467848\n",
       "3  38.0     Laki-laki  Pegawai swasta  ...          0          S1    0.616418\n",
       "4  33.0     Perempuan       Freelance  ...          1          S2    0.115439\n",
       "\n",
       "[5 rows x 13 columns]"
      ]
     },
     "execution_count": 24,
     "metadata": {},
     "output_type": "execute_result"
    }
   ],
   "source": [
    "# 5 baris teratas dari data\n",
    "df.head()"
   ]
  },
  {
   "cell_type": "code",
   "execution_count": 25,
   "metadata": {
    "executionInfo": {
     "elapsed": 381,
     "status": "ok",
     "timestamp": 1642905756841,
     "user": {
      "displayName": "Pararawendy Indarjo",
      "photoUrl": "https://lh3.googleusercontent.com/a-/AOh14GioQ0c_uukSFDoTcJVdqexZctAqHkGZbwVqv9WxOw=s64",
      "userId": "09035664507663317723"
     },
     "user_tz": -420
    },
    "id": "ej4rFhangauP"
   },
   "outputs": [],
   "source": [
    "# pengelompokan kolom berdasarkan jenisnya\n",
    "nums = ['umur', 'gaji', 'is_menikah', 'is_keturunan', 'berat', 'tinggi', 'is_merokok', 'botak_prob']\n",
    "cats = ['jenis_kelamin', 'pekerjaan', 'provinsi', 'sampo', 'pendidikan']"
   ]
  },
  {
   "cell_type": "markdown",
   "metadata": {
    "id": "6_er5f0MuCR2"
   },
   "source": [
    "# Missing Data"
   ]
  },
  {
   "cell_type": "code",
   "execution_count": 26,
   "metadata": {
    "colab": {
     "base_uri": "https://localhost:8080/"
    },
    "executionInfo": {
     "elapsed": 389,
     "status": "ok",
     "timestamp": 1642905775664,
     "user": {
      "displayName": "Pararawendy Indarjo",
      "photoUrl": "https://lh3.googleusercontent.com/a-/AOh14GioQ0c_uukSFDoTcJVdqexZctAqHkGZbwVqv9WxOw=s64",
      "userId": "09035664507663317723"
     },
     "user_tz": -420
    },
    "id": "-nFiCGgquD1e",
    "outputId": "98c1b6a2-6357-4f95-8bc0-694ea0cbbaa5"
   },
   "outputs": [
    {
     "data": {
      "text/plain": [
       "umur              0\n",
       "jenis_kelamin     9\n",
       "pekerjaan        67\n",
       "provinsi          0\n",
       "gaji             23\n",
       "is_menikah        0\n",
       "is_keturunan     15\n",
       "berat            39\n",
       "tinggi            0\n",
       "sampo            57\n",
       "is_merokok        0\n",
       "pendidikan        0\n",
       "botak_prob        0\n",
       "dtype: int64"
      ]
     },
     "execution_count": 26,
     "metadata": {},
     "output_type": "execute_result"
    }
   ],
   "source": [
    "# jumlah entry NULL di setiap kolom\n",
    "df.isna().sum()"
   ]
  },
  {
   "cell_type": "code",
   "execution_count": 27,
   "metadata": {
    "executionInfo": {
     "elapsed": 2,
     "status": "ok",
     "timestamp": 1642905808832,
     "user": {
      "displayName": "Pararawendy Indarjo",
      "photoUrl": "https://lh3.googleusercontent.com/a-/AOh14GioQ0c_uukSFDoTcJVdqexZctAqHkGZbwVqv9WxOw=s64",
      "userId": "09035664507663317723"
     },
     "user_tz": -420
    },
    "id": "JRcPcEP9vykj"
   },
   "outputs": [],
   "source": [
    "# drop baris dengan missing values\n",
    "df = df.dropna()\n"
   ]
  },
  {
   "cell_type": "code",
   "execution_count": 28,
   "metadata": {
    "colab": {
     "base_uri": "https://localhost:8080/"
    },
    "executionInfo": {
     "elapsed": 371,
     "status": "ok",
     "timestamp": 1642905831566,
     "user": {
      "displayName": "Pararawendy Indarjo",
      "photoUrl": "https://lh3.googleusercontent.com/a-/AOh14GioQ0c_uukSFDoTcJVdqexZctAqHkGZbwVqv9WxOw=s64",
      "userId": "09035664507663317723"
     },
     "user_tz": -420
    },
    "id": "93uPuyBefHfo",
    "outputId": "54162246-1c35-4455-aec0-e834e4d8d300"
   },
   "outputs": [
    {
     "data": {
      "text/plain": [
       "umur             0\n",
       "jenis_kelamin    0\n",
       "pekerjaan        0\n",
       "provinsi         0\n",
       "gaji             0\n",
       "is_menikah       0\n",
       "is_keturunan     0\n",
       "berat            0\n",
       "tinggi           0\n",
       "sampo            0\n",
       "is_merokok       0\n",
       "pendidikan       0\n",
       "botak_prob       0\n",
       "dtype: int64"
      ]
     },
     "execution_count": 28,
     "metadata": {},
     "output_type": "execute_result"
    }
   ],
   "source": [
    "# cek apakah sudah berhasil\n",
    "df.isna().sum()"
   ]
  },
  {
   "cell_type": "markdown",
   "metadata": {
    "id": "a4Y2qV2QzRtl"
   },
   "source": [
    "# Duplicated Data"
   ]
  },
  {
   "cell_type": "code",
   "execution_count": 29,
   "metadata": {
    "colab": {
     "base_uri": "https://localhost:8080/"
    },
    "executionInfo": {
     "elapsed": 457,
     "status": "ok",
     "timestamp": 1642905874729,
     "user": {
      "displayName": "Pararawendy Indarjo",
      "photoUrl": "https://lh3.googleusercontent.com/a-/AOh14GioQ0c_uukSFDoTcJVdqexZctAqHkGZbwVqv9WxOw=s64",
      "userId": "09035664507663317723"
     },
     "user_tz": -420
    },
    "id": "xPYIlLV0y_w6",
    "outputId": "411aa93e-46a4-4f25-d41f-ae8b9844ee8c"
   },
   "outputs": [
    {
     "data": {
      "text/plain": [
       "99"
      ]
     },
     "execution_count": 29,
     "metadata": {},
     "output_type": "execute_result"
    }
   ],
   "source": [
    "# cek jumlah duplicated rows\n",
    "# dari semua kolom\n",
    "df.duplicated().sum()"
   ]
  },
  {
   "cell_type": "code",
   "execution_count": 30,
   "metadata": {
    "colab": {
     "base_uri": "https://localhost:8080/"
    },
    "executionInfo": {
     "elapsed": 380,
     "status": "ok",
     "timestamp": 1642905896318,
     "user": {
      "displayName": "Pararawendy Indarjo",
      "photoUrl": "https://lh3.googleusercontent.com/a-/AOh14GioQ0c_uukSFDoTcJVdqexZctAqHkGZbwVqv9WxOw=s64",
      "userId": "09035664507663317723"
     },
     "user_tz": -420
    },
    "id": "QbB8la0xzVwU",
    "outputId": "42bc75ed-52c7-4d8e-b10a-f68f7b7b2baa"
   },
   "outputs": [
    {
     "name": "stdout",
     "output_type": "stream",
     "text": [
      "99\n",
      "0\n"
     ]
    }
   ],
   "source": [
    "# drop duplicated rows\n",
    "print(df.duplicated().sum())\n",
    "df.drop_duplicates(inplace=True)\n",
    "print(df.duplicated().sum())"
   ]
  },
  {
   "cell_type": "markdown",
   "metadata": {
    "id": "HbJBD6yxzcJP"
   },
   "source": [
    "# Outliers Removal\n",
    "Menggunakan konsep IQR"
   ]
  },
  {
   "cell_type": "code",
   "execution_count": 31,
   "metadata": {
    "colab": {
     "base_uri": "https://localhost:8080/"
    },
    "executionInfo": {
     "elapsed": 383,
     "status": "ok",
     "timestamp": 1642905995381,
     "user": {
      "displayName": "Pararawendy Indarjo",
      "photoUrl": "https://lh3.googleusercontent.com/a-/AOh14GioQ0c_uukSFDoTcJVdqexZctAqHkGZbwVqv9WxOw=s64",
      "userId": "09035664507663317723"
     },
     "user_tz": -420
    },
    "id": "4DR1BnKdzi-0",
    "outputId": "efa4876d-9e3b-4bb9-c78d-b5dcedc317a9"
   },
   "outputs": [
    {
     "name": "stdout",
     "output_type": "stream",
     "text": [
      "Jumlah baris sebelum memfilter outlier: 7682\n",
      "Jumlah baris setelah memfilter outlier: 6989\n"
     ]
    }
   ],
   "source": [
    "print(f'Jumlah baris sebelum memfilter outlier: {len(df)}')\n",
    "\n",
    "for col in ['umur','gaji', 'berat', 'tinggi']:\n",
    "  Q1 = df[col].quantile(0.25)\n",
    "  Q3 = df[col].quantile(0.75)\n",
    "  IQR = Q3-Q1\n",
    "  low_limit = Q1 - 1.5*IQR\n",
    "  high_limit = Q3 + 1.5*IQR\n",
    "  df = df[(df[col] >= low_limit) & (df[col] <= high_limit)]\n",
    "\n",
    "print(f'Jumlah baris setelah memfilter outlier: {len(df)}')"
   ]
  },
  {
   "cell_type": "markdown",
   "metadata": {
    "id": "vBB_vjMX06IC"
   },
   "source": [
    "# Feature Encoding"
   ]
  },
  {
   "cell_type": "code",
   "execution_count": 32,
   "metadata": {
    "colab": {
     "base_uri": "https://localhost:8080/"
    },
    "executionInfo": {
     "elapsed": 370,
     "status": "ok",
     "timestamp": 1642906026933,
     "user": {
      "displayName": "Pararawendy Indarjo",
      "photoUrl": "https://lh3.googleusercontent.com/a-/AOh14GioQ0c_uukSFDoTcJVdqexZctAqHkGZbwVqv9WxOw=s64",
      "userId": "09035664507663317723"
     },
     "user_tz": -420
    },
    "id": "IGIBn38P0HJm",
    "outputId": "a8373acb-e1d7-4049-90ce-c3b5d93ba10e"
   },
   "outputs": [
    {
     "name": "stdout",
     "output_type": "stream",
     "text": [
      "value counts of column jenis_kelamin\n",
      "Laki-laki    4651\n",
      "Perempuan    2338\n",
      "Name: jenis_kelamin, dtype: int64\n",
      "------------------------------ \n",
      "\n",
      "value counts of column pekerjaan\n",
      "PNS               2818\n",
      "Pegawai swasta    2797\n",
      "Freelance         1096\n",
      "Pengangguran       278\n",
      "Name: pekerjaan, dtype: int64\n",
      "------------------------------ \n",
      "\n",
      "value counts of column sampo\n",
      "Merpati            1448\n",
      "Pantone            1409\n",
      "Moonsilk           1384\n",
      "Deadbuoy           1381\n",
      "Shoulder & Head    1367\n",
      "Name: sampo, dtype: int64\n",
      "------------------------------ \n",
      "\n",
      "value counts of column pendidikan\n",
      "S1     3845\n",
      "SMA    1773\n",
      "S2      576\n",
      "SMP     475\n",
      "SD      191\n",
      "S3      129\n",
      "Name: pendidikan, dtype: int64\n",
      "------------------------------ \n",
      "\n"
     ]
    }
   ],
   "source": [
    "# pengecekan nilai/entri dari kolom-kolom kategorikal\n",
    "cats_updated = ['jenis_kelamin', 'pekerjaan', 'sampo', 'pendidikan']\n",
    "\n",
    "for col in cats_updated:\n",
    "  print(f'value counts of column {col}')\n",
    "  print(df[col].value_counts())\n",
    "  print('---'*10, '\\n')"
   ]
  },
  {
   "cell_type": "markdown",
   "metadata": {
    "id": "MplaGm-51szD"
   },
   "source": [
    "Strategi encoding\n",
    "* `jenis_kelamin` & `pendidikan` \\: label encoding\n",
    "* `pekerjaan` & 'sampo` \\: One Hot Encoding "
   ]
  },
  {
   "cell_type": "code",
   "execution_count": 33,
   "metadata": {
    "executionInfo": {
     "elapsed": 395,
     "status": "ok",
     "timestamp": 1642906093073,
     "user": {
      "displayName": "Pararawendy Indarjo",
      "photoUrl": "https://lh3.googleusercontent.com/a-/AOh14GioQ0c_uukSFDoTcJVdqexZctAqHkGZbwVqv9WxOw=s64",
      "userId": "09035664507663317723"
     },
     "user_tz": -420
    },
    "id": "yK99BcTw0909"
   },
   "outputs": [],
   "source": [
    "# label encoding\n",
    "# untuk kolom jenis_kelamin dan pendidikan\n",
    "mapping_jenis_kelamin = {\n",
    "    'Perempuan' : 0,\n",
    "    'Laki-laki' : 1\n",
    "}\n",
    "\n",
    "mapping_pendidikan = {\n",
    "    'SD' : 0,\n",
    "    'SMP' : 1,\n",
    "    'SMA' : 2,\n",
    "    'S1' : 3,\n",
    "    'S2' : 4,\n",
    "    'S3' : 5\n",
    "}\n",
    "\n",
    "df['jenis_kelamin'] = df['jenis_kelamin'].map(mapping_jenis_kelamin)\n",
    "df['pendidikan'] = df['pendidikan'].map(mapping_pendidikan)"
   ]
  },
  {
   "cell_type": "code",
   "execution_count": 34,
   "metadata": {
    "executionInfo": {
     "elapsed": 375,
     "status": "ok",
     "timestamp": 1642906114275,
     "user": {
      "displayName": "Pararawendy Indarjo",
      "photoUrl": "https://lh3.googleusercontent.com/a-/AOh14GioQ0c_uukSFDoTcJVdqexZctAqHkGZbwVqv9WxOw=s64",
      "userId": "09035664507663317723"
     },
     "user_tz": -420
    },
    "id": "XhUiF70g1F4U"
   },
   "outputs": [],
   "source": [
    "# One hot encoder pekerjaan dan sampo\n",
    "# WARNING: run code ini sekali saja\n",
    "for cat in ['pekerjaan', 'sampo']:\n",
    "    onehots = pd.get_dummies(df[cat], prefix=cat)\n",
    "    df = df.join(onehots)"
   ]
  },
  {
   "cell_type": "markdown",
   "metadata": {
    "id": "w7PflWab4Vfl"
   },
   "source": [
    "# Drop kolom-kolom yang outdated"
   ]
  },
  {
   "cell_type": "code",
   "execution_count": 35,
   "metadata": {
    "executionInfo": {
     "elapsed": 387,
     "status": "ok",
     "timestamp": 1642906152934,
     "user": {
      "displayName": "Pararawendy Indarjo",
      "photoUrl": "https://lh3.googleusercontent.com/a-/AOh14GioQ0c_uukSFDoTcJVdqexZctAqHkGZbwVqv9WxOw=s64",
      "userId": "09035664507663317723"
     },
     "user_tz": -420
    },
    "id": "FUDEXhtj3YIo"
   },
   "outputs": [],
   "source": [
    "# drop kolom pekerjaan dan sampo yang asli (karena sudah di-encoding)\n",
    "df = df.drop(columns=['pekerjaan', 'sampo'])"
   ]
  },
  {
   "cell_type": "code",
   "execution_count": 36,
   "metadata": {
    "colab": {
     "base_uri": "https://localhost:8080/",
     "height": 288
    },
    "executionInfo": {
     "elapsed": 377,
     "status": "ok",
     "timestamp": 1642906164592,
     "user": {
      "displayName": "Pararawendy Indarjo",
      "photoUrl": "https://lh3.googleusercontent.com/a-/AOh14GioQ0c_uukSFDoTcJVdqexZctAqHkGZbwVqv9WxOw=s64",
      "userId": "09035664507663317723"
     },
     "user_tz": -420
    },
    "id": "gJq4lcj83lJZ",
    "outputId": "7cbb0471-6eba-4ef0-896b-8b485699e927"
   },
   "outputs": [
    {
     "data": {
      "text/html": [
       "\n",
       "  <div id=\"df-a6882638-b831-4c05-830b-a44c5389f2d0\">\n",
       "    <div class=\"colab-df-container\">\n",
       "      <div>\n",
       "<style scoped>\n",
       "    .dataframe tbody tr th:only-of-type {\n",
       "        vertical-align: middle;\n",
       "    }\n",
       "\n",
       "    .dataframe tbody tr th {\n",
       "        vertical-align: top;\n",
       "    }\n",
       "\n",
       "    .dataframe thead th {\n",
       "        text-align: right;\n",
       "    }\n",
       "</style>\n",
       "<table border=\"1\" class=\"dataframe\">\n",
       "  <thead>\n",
       "    <tr style=\"text-align: right;\">\n",
       "      <th></th>\n",
       "      <th>umur</th>\n",
       "      <th>jenis_kelamin</th>\n",
       "      <th>provinsi</th>\n",
       "      <th>gaji</th>\n",
       "      <th>is_menikah</th>\n",
       "      <th>is_keturunan</th>\n",
       "      <th>berat</th>\n",
       "      <th>tinggi</th>\n",
       "      <th>is_merokok</th>\n",
       "      <th>pendidikan</th>\n",
       "      <th>botak_prob</th>\n",
       "      <th>pekerjaan_Freelance</th>\n",
       "      <th>pekerjaan_PNS</th>\n",
       "      <th>pekerjaan_Pegawai swasta</th>\n",
       "      <th>pekerjaan_Pengangguran</th>\n",
       "      <th>sampo_Deadbuoy</th>\n",
       "      <th>sampo_Merpati</th>\n",
       "      <th>sampo_Moonsilk</th>\n",
       "      <th>sampo_Pantone</th>\n",
       "      <th>sampo_Shoulder &amp; Head</th>\n",
       "    </tr>\n",
       "  </thead>\n",
       "  <tbody>\n",
       "    <tr>\n",
       "      <th>0</th>\n",
       "      <td>42.0</td>\n",
       "      <td>1</td>\n",
       "      <td>Padang</td>\n",
       "      <td>7.864005e+06</td>\n",
       "      <td>0</td>\n",
       "      <td>0.0</td>\n",
       "      <td>61.928685</td>\n",
       "      <td>152.174164</td>\n",
       "      <td>1</td>\n",
       "      <td>3</td>\n",
       "      <td>0.487655</td>\n",
       "      <td>0</td>\n",
       "      <td>1</td>\n",
       "      <td>0</td>\n",
       "      <td>0</td>\n",
       "      <td>1</td>\n",
       "      <td>0</td>\n",
       "      <td>0</td>\n",
       "      <td>0</td>\n",
       "      <td>0</td>\n",
       "    </tr>\n",
       "    <tr>\n",
       "      <th>1</th>\n",
       "      <td>33.0</td>\n",
       "      <td>1</td>\n",
       "      <td>Palangkaraya</td>\n",
       "      <td>6.492662e+06</td>\n",
       "      <td>0</td>\n",
       "      <td>0.0</td>\n",
       "      <td>49.374507</td>\n",
       "      <td>152.822969</td>\n",
       "      <td>1</td>\n",
       "      <td>2</td>\n",
       "      <td>0.297270</td>\n",
       "      <td>0</td>\n",
       "      <td>0</td>\n",
       "      <td>1</td>\n",
       "      <td>0</td>\n",
       "      <td>0</td>\n",
       "      <td>0</td>\n",
       "      <td>1</td>\n",
       "      <td>0</td>\n",
       "      <td>0</td>\n",
       "    </tr>\n",
       "    <tr>\n",
       "      <th>2</th>\n",
       "      <td>59.0</td>\n",
       "      <td>1</td>\n",
       "      <td>Serang</td>\n",
       "      <td>8.086303e+06</td>\n",
       "      <td>1</td>\n",
       "      <td>0.0</td>\n",
       "      <td>59.072807</td>\n",
       "      <td>159.911047</td>\n",
       "      <td>1</td>\n",
       "      <td>3</td>\n",
       "      <td>0.467848</td>\n",
       "      <td>1</td>\n",
       "      <td>0</td>\n",
       "      <td>0</td>\n",
       "      <td>0</td>\n",
       "      <td>0</td>\n",
       "      <td>1</td>\n",
       "      <td>0</td>\n",
       "      <td>0</td>\n",
       "      <td>0</td>\n",
       "    </tr>\n",
       "    <tr>\n",
       "      <th>3</th>\n",
       "      <td>38.0</td>\n",
       "      <td>1</td>\n",
       "      <td>Gorontalo</td>\n",
       "      <td>1.147321e+07</td>\n",
       "      <td>0</td>\n",
       "      <td>1.0</td>\n",
       "      <td>68.338014</td>\n",
       "      <td>162.558997</td>\n",
       "      <td>0</td>\n",
       "      <td>3</td>\n",
       "      <td>0.616418</td>\n",
       "      <td>0</td>\n",
       "      <td>0</td>\n",
       "      <td>1</td>\n",
       "      <td>0</td>\n",
       "      <td>0</td>\n",
       "      <td>0</td>\n",
       "      <td>1</td>\n",
       "      <td>0</td>\n",
       "      <td>0</td>\n",
       "    </tr>\n",
       "    <tr>\n",
       "      <th>4</th>\n",
       "      <td>33.0</td>\n",
       "      <td>0</td>\n",
       "      <td>Tanjungselor</td>\n",
       "      <td>1.475942e+07</td>\n",
       "      <td>0</td>\n",
       "      <td>0.0</td>\n",
       "      <td>53.769996</td>\n",
       "      <td>154.579510</td>\n",
       "      <td>1</td>\n",
       "      <td>4</td>\n",
       "      <td>0.115439</td>\n",
       "      <td>1</td>\n",
       "      <td>0</td>\n",
       "      <td>0</td>\n",
       "      <td>0</td>\n",
       "      <td>0</td>\n",
       "      <td>0</td>\n",
       "      <td>0</td>\n",
       "      <td>1</td>\n",
       "      <td>0</td>\n",
       "    </tr>\n",
       "  </tbody>\n",
       "</table>\n",
       "</div>\n",
       "      <button class=\"colab-df-convert\" onclick=\"convertToInteractive('df-a6882638-b831-4c05-830b-a44c5389f2d0')\"\n",
       "              title=\"Convert this dataframe to an interactive table.\"\n",
       "              style=\"display:none;\">\n",
       "        \n",
       "  <svg xmlns=\"http://www.w3.org/2000/svg\" height=\"24px\"viewBox=\"0 0 24 24\"\n",
       "       width=\"24px\">\n",
       "    <path d=\"M0 0h24v24H0V0z\" fill=\"none\"/>\n",
       "    <path d=\"M18.56 5.44l.94 2.06.94-2.06 2.06-.94-2.06-.94-.94-2.06-.94 2.06-2.06.94zm-11 1L8.5 8.5l.94-2.06 2.06-.94-2.06-.94L8.5 2.5l-.94 2.06-2.06.94zm10 10l.94 2.06.94-2.06 2.06-.94-2.06-.94-.94-2.06-.94 2.06-2.06.94z\"/><path d=\"M17.41 7.96l-1.37-1.37c-.4-.4-.92-.59-1.43-.59-.52 0-1.04.2-1.43.59L10.3 9.45l-7.72 7.72c-.78.78-.78 2.05 0 2.83L4 21.41c.39.39.9.59 1.41.59.51 0 1.02-.2 1.41-.59l7.78-7.78 2.81-2.81c.8-.78.8-2.07 0-2.86zM5.41 20L4 18.59l7.72-7.72 1.47 1.35L5.41 20z\"/>\n",
       "  </svg>\n",
       "      </button>\n",
       "      \n",
       "  <style>\n",
       "    .colab-df-container {\n",
       "      display:flex;\n",
       "      flex-wrap:wrap;\n",
       "      gap: 12px;\n",
       "    }\n",
       "\n",
       "    .colab-df-convert {\n",
       "      background-color: #E8F0FE;\n",
       "      border: none;\n",
       "      border-radius: 50%;\n",
       "      cursor: pointer;\n",
       "      display: none;\n",
       "      fill: #1967D2;\n",
       "      height: 32px;\n",
       "      padding: 0 0 0 0;\n",
       "      width: 32px;\n",
       "    }\n",
       "\n",
       "    .colab-df-convert:hover {\n",
       "      background-color: #E2EBFA;\n",
       "      box-shadow: 0px 1px 2px rgba(60, 64, 67, 0.3), 0px 1px 3px 1px rgba(60, 64, 67, 0.15);\n",
       "      fill: #174EA6;\n",
       "    }\n",
       "\n",
       "    [theme=dark] .colab-df-convert {\n",
       "      background-color: #3B4455;\n",
       "      fill: #D2E3FC;\n",
       "    }\n",
       "\n",
       "    [theme=dark] .colab-df-convert:hover {\n",
       "      background-color: #434B5C;\n",
       "      box-shadow: 0px 1px 3px 1px rgba(0, 0, 0, 0.15);\n",
       "      filter: drop-shadow(0px 1px 2px rgba(0, 0, 0, 0.3));\n",
       "      fill: #FFFFFF;\n",
       "    }\n",
       "  </style>\n",
       "\n",
       "      <script>\n",
       "        const buttonEl =\n",
       "          document.querySelector('#df-a6882638-b831-4c05-830b-a44c5389f2d0 button.colab-df-convert');\n",
       "        buttonEl.style.display =\n",
       "          google.colab.kernel.accessAllowed ? 'block' : 'none';\n",
       "\n",
       "        async function convertToInteractive(key) {\n",
       "          const element = document.querySelector('#df-a6882638-b831-4c05-830b-a44c5389f2d0');\n",
       "          const dataTable =\n",
       "            await google.colab.kernel.invokeFunction('convertToInteractive',\n",
       "                                                     [key], {});\n",
       "          if (!dataTable) return;\n",
       "\n",
       "          const docLinkHtml = 'Like what you see? Visit the ' +\n",
       "            '<a target=\"_blank\" href=https://colab.research.google.com/notebooks/data_table.ipynb>data table notebook</a>'\n",
       "            + ' to learn more about interactive tables.';\n",
       "          element.innerHTML = '';\n",
       "          dataTable['output_type'] = 'display_data';\n",
       "          await google.colab.output.renderOutput(dataTable, element);\n",
       "          const docLink = document.createElement('div');\n",
       "          docLink.innerHTML = docLinkHtml;\n",
       "          element.appendChild(docLink);\n",
       "        }\n",
       "      </script>\n",
       "    </div>\n",
       "  </div>\n",
       "  "
      ],
      "text/plain": [
       "   umur  jenis_kelamin  ... sampo_Pantone  sampo_Shoulder & Head\n",
       "0  42.0              1  ...             0                      0\n",
       "1  33.0              1  ...             0                      0\n",
       "2  59.0              1  ...             0                      0\n",
       "3  38.0              1  ...             0                      0\n",
       "4  33.0              0  ...             1                      0\n",
       "\n",
       "[5 rows x 20 columns]"
      ]
     },
     "execution_count": 36,
     "metadata": {},
     "output_type": "execute_result"
    }
   ],
   "source": [
    "# cek 'n ricek penampakan data setelah preprocessing\n",
    "df.head()"
   ]
  },
  {
   "cell_type": "code",
   "execution_count": 37,
   "metadata": {
    "colab": {
     "base_uri": "https://localhost:8080/"
    },
    "executionInfo": {
     "elapsed": 375,
     "status": "ok",
     "timestamp": 1642906225278,
     "user": {
      "displayName": "Pararawendy Indarjo",
      "photoUrl": "https://lh3.googleusercontent.com/a-/AOh14GioQ0c_uukSFDoTcJVdqexZctAqHkGZbwVqv9WxOw=s64",
      "userId": "09035664507663317723"
     },
     "user_tz": -420
    },
    "id": "oCUKohFi4Il1",
    "outputId": "de58078d-c8e9-474b-9404-86078edbf9c8"
   },
   "outputs": [
    {
     "name": "stdout",
     "output_type": "stream",
     "text": [
      "<class 'pandas.core.frame.DataFrame'>\n",
      "Int64Index: 6989 entries, 0 to 7911\n",
      "Data columns (total 20 columns):\n",
      " #   Column                    Non-Null Count  Dtype  \n",
      "---  ------                    --------------  -----  \n",
      " 0   umur                      6989 non-null   float64\n",
      " 1   jenis_kelamin             6989 non-null   int64  \n",
      " 2   provinsi                  6989 non-null   object \n",
      " 3   gaji                      6989 non-null   float64\n",
      " 4   is_menikah                6989 non-null   int64  \n",
      " 5   is_keturunan              6989 non-null   float64\n",
      " 6   berat                     6989 non-null   float64\n",
      " 7   tinggi                    6989 non-null   float64\n",
      " 8   is_merokok                6989 non-null   int64  \n",
      " 9   pendidikan                6989 non-null   int64  \n",
      " 10  botak_prob                6989 non-null   float64\n",
      " 11  pekerjaan_Freelance       6989 non-null   uint8  \n",
      " 12  pekerjaan_PNS             6989 non-null   uint8  \n",
      " 13  pekerjaan_Pegawai swasta  6989 non-null   uint8  \n",
      " 14  pekerjaan_Pengangguran    6989 non-null   uint8  \n",
      " 15  sampo_Deadbuoy            6989 non-null   uint8  \n",
      " 16  sampo_Merpati             6989 non-null   uint8  \n",
      " 17  sampo_Moonsilk            6989 non-null   uint8  \n",
      " 18  sampo_Pantone             6989 non-null   uint8  \n",
      " 19  sampo_Shoulder & Head     6989 non-null   uint8  \n",
      "dtypes: float64(6), int64(4), object(1), uint8(9)\n",
      "memory usage: 1.0+ MB\n"
     ]
    }
   ],
   "source": [
    "# informasi dataframe yang sudah di-preprocessing\n",
    "df.info()"
   ]
  },
  {
   "cell_type": "code",
   "execution_count": null,
   "metadata": {
    "id": "a6GZ0cSO0C-n"
   },
   "outputs": [],
   "source": []
  }
 ],
 "metadata": {
  "colab": {
   "collapsed_sections": [],
   "name": "Hands-On Data Cleansing.ipynb",
   "provenance": []
  },
  "kernelspec": {
   "display_name": "Python 3",
   "language": "python",
   "name": "python3"
  },
  "language_info": {
   "codemirror_mode": {
    "name": "ipython",
    "version": 3
   },
   "file_extension": ".py",
   "mimetype": "text/x-python",
   "name": "python",
   "nbconvert_exporter": "python",
   "pygments_lexer": "ipython3",
   "version": "3.8.10"
  }
 },
 "nbformat": 4,
 "nbformat_minor": 1
}
