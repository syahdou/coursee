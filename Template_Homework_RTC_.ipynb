{
  "cells": [
    {
      "cell_type": "markdown",
      "metadata": {
        "id": "KOjftwRR3t5O"
      },
      "source": [
        "Author: Huswaton Hasanah"
      ],
      "id": "KOjftwRR3t5O"
    },
    {
      "cell_type": "markdown",
      "metadata": {
        "id": "UJhhIIaf3t5V"
      },
      "source": [
        "# Import Libraries"
      ],
      "id": "UJhhIIaf3t5V"
    },
    {
      "cell_type": "code",
      "execution_count": 3,
      "metadata": {
        "colab": {
          "base_uri": "https://localhost:8080/"
        },
        "id": "cralt6dO3t5X",
        "outputId": "a80e2787-6178-4fea-9550-92debe0bea36"
      },
      "outputs": [
        {
          "output_type": "stream",
          "name": "stdout",
          "text": [
            "Drive already mounted at /content/drive; to attempt to forcibly remount, call drive.mount(\"/content/drive\", force_remount=True).\n"
          ]
        }
      ],
      "source": [
        "from google.colab import drive\n",
        "drive.mount('/content/drive')\n",
        "\n",
        "import numpy as np\n",
        "import pandas as pd\n",
        "import matplotlib.pyplot as plt\n",
        "import seaborn as sns"
      ],
      "id": "cralt6dO3t5X"
    },
    {
      "cell_type": "markdown",
      "metadata": {
        "id": "mb-VgU5o3t5Z"
      },
      "source": [
        "# Load Dataset"
      ],
      "id": "mb-VgU5o3t5Z"
    },
    {
      "cell_type": "code",
      "execution_count": 4,
      "metadata": {
        "id": "6l7wMcI93t5a"
      },
      "outputs": [],
      "source": [
        "df = pd.read_csv('/content/drive/MyDrive/Rakamin/loan_customer.csv')"
      ],
      "id": "6l7wMcI93t5a"
    },
    {
      "cell_type": "markdown",
      "metadata": {
        "id": "e3MmeoM_3t5b"
      },
      "source": [
        "# Data Cleansing"
      ],
      "id": "e3MmeoM_3t5b"
    },
    {
      "cell_type": "markdown",
      "metadata": {
        "id": "qfwXFSvx3t5c"
      },
      "source": [
        "## Handling missing values"
      ],
      "id": "qfwXFSvx3t5c"
    },
    {
      "cell_type": "code",
      "execution_count": 5,
      "metadata": {
        "colab": {
          "base_uri": "https://localhost:8080/"
        },
        "id": "UFgH9obj3t5d",
        "outputId": "203c3a6a-b647-44bc-d37c-82d838ee6c18"
      },
      "outputs": [
        {
          "output_type": "stream",
          "name": "stdout",
          "text": [
            "<class 'pandas.core.frame.DataFrame'>\n",
            "RangeIndex: 621 entries, 0 to 620\n",
            "Data columns (total 17 columns):\n",
            " #   Column              Non-Null Count  Dtype  \n",
            "---  ------              --------------  -----  \n",
            " 0   loan_id             621 non-null    object \n",
            " 1   birth_date          572 non-null    object \n",
            " 2   phone_number        569 non-null    float64\n",
            " 3   gender              608 non-null    object \n",
            " 4   married             618 non-null    object \n",
            " 5   dependents          605 non-null    object \n",
            " 6   education           620 non-null    object \n",
            " 7   self_employed       588 non-null    object \n",
            " 8   applicant_income    612 non-null    float64\n",
            " 9   coapplicant_income  621 non-null    float64\n",
            " 10  loan_amount         621 non-null    int64  \n",
            " 11  loan_term_month     621 non-null    int64  \n",
            " 12  loan_term_year      621 non-null    int64  \n",
            " 13  credit_history      570 non-null    float64\n",
            " 14  has_credit_card     88 non-null     object \n",
            " 15  property_type       620 non-null    object \n",
            " 16  loan_status         621 non-null    object \n",
            "dtypes: float64(4), int64(3), object(10)\n",
            "memory usage: 82.6+ KB\n"
          ]
        }
      ],
      "source": [
        "df.info()"
      ],
      "id": "UFgH9obj3t5d"
    },
    {
      "cell_type": "markdown",
      "metadata": {
        "id": "0Ysptwxw6Ikl"
      },
      "source": [
        "Analisis\n",
        "\n",
        "1. Data terdiri dari 621 baris\n",
        "2. Tampak beberapa kolom masih memiliki null/missing values (Non-Null Count < jumlah baris)\n",
        "3. Sepertinya tidak ada issue yang mencolok pada tipe data untuk setiap kolom (sudah sesuai)"
      ],
      "id": "0Ysptwxw6Ikl"
    },
    {
      "cell_type": "markdown",
      "metadata": {
        "id": "vKIyy-dP3t5e"
      },
      "source": [
        "## Handling duplicated data"
      ],
      "id": "vKIyy-dP3t5e"
    },
    {
      "cell_type": "code",
      "execution_count": 6,
      "metadata": {
        "colab": {
          "base_uri": "https://localhost:8080/"
        },
        "id": "KRFx5Zxv3t5f",
        "outputId": "2e67883a-ee21-4b8a-e889-50849da0add2"
      },
      "outputs": [
        {
          "output_type": "execute_result",
          "data": {
            "text/plain": [
              "loan_id                 0\n",
              "birth_date             49\n",
              "phone_number           52\n",
              "gender                 13\n",
              "married                 3\n",
              "dependents             16\n",
              "education               1\n",
              "self_employed          33\n",
              "applicant_income        9\n",
              "coapplicant_income      0\n",
              "loan_amount             0\n",
              "loan_term_month         0\n",
              "loan_term_year          0\n",
              "credit_history         51\n",
              "has_credit_card       533\n",
              "property_type           1\n",
              "loan_status             0\n",
              "dtype: int64"
            ]
          },
          "metadata": {},
          "execution_count": 6
        }
      ],
      "source": [
        "df.isna().sum()"
      ],
      "id": "KRFx5Zxv3t5f"
    },
    {
      "cell_type": "markdown",
      "metadata": {
        "id": "xLGj3aaw3t5g"
      },
      "source": [
        "## Handling Outlier"
      ],
      "id": "xLGj3aaw3t5g"
    },
    {
      "cell_type": "code",
      "execution_count": null,
      "metadata": {
        "colab": {
          "base_uri": "https://localhost:8080/",
          "height": 70
        },
        "id": "Ttta7vtR3t5h",
        "outputId": "183fe5ee-36ee-4b25-9873-aa878d8f0086"
      },
      "outputs": [
        {
          "data": {
            "application/vnd.google.colaboratory.intrinsic+json": {
              "type": "string"
            },
            "text/plain": [
              "\"\\nprint(f'Jumlah baris sebelum memfilter outlier: {len(df)}')\\n\\nfor col in ['loan_id','self_employed', 'coapplicant_income', 'has_credit_card']:\\n  Q1 = df[col].quantile(0.25)\\n  Q3 = df[col].quantile(0.75)\\n  IQR = Q3-Q1\\n  low_limit = Q1 - 1.5*IQR\\n  high_limit = Q3 + 1.5*IQR\\n  df = df[(df[col] >= low_limit) & (df[col] <= high_limit)]\\n\\nprint(f'Jumlah baris setelah memfilter outlier: {len(df)}')\\n\""
            ]
          },
          "execution_count": 9,
          "metadata": {},
          "output_type": "execute_result"
        }
      ],
      "source": [
        "'''\n",
        "print(f'Jumlah baris sebelum memfilter outlier: {len(df)}')\n",
        "\n",
        "for col in ['loan_id','self_employed', 'coapplicant_income', 'has_credit_card']:\n",
        "  Q1 = df[col].quantile(0.25)\n",
        "  Q3 = df[col].quantile(0.75)\n",
        "  IQR = Q3-Q1\n",
        "  low_limit = Q1 - 1.5*IQR\n",
        "  high_limit = Q3 + 1.5*IQR\n",
        "  df = df[(df[col] >= low_limit) & (df[col] <= high_limit)]\n",
        "\n",
        "print(f'Jumlah baris setelah memfilter outlier: {len(df)}')\n",
        "'''"
      ],
      "id": "Ttta7vtR3t5h"
    },
    {
      "cell_type": "markdown",
      "metadata": {
        "id": "e1eZG-P03t5i"
      },
      "source": [
        "## Feature Encoding"
      ],
      "id": "e1eZG-P03t5i"
    },
    {
      "cell_type": "code",
      "execution_count": 7,
      "metadata": {
        "colab": {
          "base_uri": "https://localhost:8080/"
        },
        "id": "ffbzAYk_3t5i",
        "outputId": "bb41a7f4-684d-49ef-8248-108c082d26f4"
      },
      "outputs": [
        {
          "output_type": "stream",
          "name": "stdout",
          "text": [
            "value counts of column loan_id\n",
            "LP002277    2\n",
            "LP001990    2\n",
            "LP002160    2\n",
            "LP001904    2\n",
            "LP001310    2\n",
            "           ..\n",
            "LP001405    1\n",
            "LP002941    1\n",
            "LP002500    1\n",
            "LP001333    1\n",
            "LP001013    1\n",
            "Name: loan_id, Length: 616, dtype: int64\n",
            "------------------------------ \n",
            "\n",
            "value counts of column birth_date\n",
            "1979-03-23    2\n",
            "1982-09-18    2\n",
            "1987-08-07    2\n",
            "1985-01-19    2\n",
            "1985-06-09    2\n",
            "             ..\n",
            "1988-05-29    1\n",
            "1992-04-26    1\n",
            "1985-02-14    1\n",
            "1978-04-20    1\n",
            "1980-07-13    1\n",
            "Name: birth_date, Length: 541, dtype: int64\n",
            "------------------------------ \n",
            "\n",
            "value counts of column phone_number\n",
            "6.281384e+11    2\n",
            "6.281153e+11    2\n",
            "6.281152e+10    2\n",
            "6.281310e+11    2\n",
            "6.285279e+11    2\n",
            "               ..\n",
            "6.281360e+11    1\n",
            "6.285603e+10    1\n",
            "6.281342e+11    1\n",
            "6.287765e+11    1\n",
            "6.281391e+11    1\n",
            "Name: phone_number, Length: 564, dtype: int64\n",
            "------------------------------ \n",
            "\n",
            "value counts of column gender\n",
            "Male      495\n",
            "Female    113\n",
            "Name: gender, dtype: int64\n",
            "------------------------------ \n",
            "\n",
            "value counts of column married\n",
            "Yes    403\n",
            "No     215\n",
            "Name: married, dtype: int64\n",
            "------------------------------ \n",
            "\n",
            "value counts of column dependents\n",
            "0     349\n",
            "1     103\n",
            "2     101\n",
            "3+     52\n",
            "Name: dependents, dtype: int64\n",
            "------------------------------ \n",
            "\n",
            "value counts of column education\n",
            "Graduate        485\n",
            "Not Graduate    135\n",
            "Name: education, dtype: int64\n",
            "------------------------------ \n",
            "\n"
          ]
        }
      ],
      "source": [
        "cats_updated = ['loan_id', 'birth_date', 'phone_number', 'gender','married','dependents','education']\n",
        "\n",
        "for col in cats_updated:\n",
        "  print(f'value counts of column {col}')\n",
        "  print(df[col].value_counts())\n",
        "  print('---'*10, '\\n')"
      ],
      "id": "ffbzAYk_3t5i"
    },
    {
      "cell_type": "markdown",
      "metadata": {
        "id": "22cS3R9D3t5j"
      },
      "source": [
        "# Business Insight"
      ],
      "id": "22cS3R9D3t5j"
    },
    {
      "cell_type": "markdown",
      "metadata": {
        "id": "lBVWFmcL3t5j"
      },
      "source": [
        "## Analisis minat pelanggan berdasarkan pada tipe properti"
      ],
      "id": "lBVWFmcL3t5j"
    },
    {
      "cell_type": "code",
      "execution_count": 8,
      "metadata": {
        "colab": {
          "base_uri": "https://localhost:8080/"
        },
        "id": "Ubdf_tVH3t5k",
        "outputId": "51a3e1b1-7a51-43bc-eb5d-431a7e00f78b"
      },
      "outputs": [
        {
          "output_type": "stream",
          "name": "stdout",
          "text": [
            "value counts of column property_type\n",
            "apartment    235\n",
            "house        206\n",
            "studio       179\n",
            "Name: property_type, dtype: int64\n",
            "------------------------------ \n",
            "\n"
          ]
        }
      ],
      "source": [
        "cats_updated = ['property_type']\n",
        "\n",
        "for col in cats_updated:\n",
        "  print(f'value counts of column {col}')\n",
        "  print(df[col].value_counts())\n",
        "  print('---'*10, '\\n')"
      ],
      "id": "Ubdf_tVH3t5k"
    },
    {
      "cell_type": "markdown",
      "source": [
        "berdasarkan data diatas minat pelanggan tertinggi pada properti apertemen"
      ],
      "metadata": {
        "id": "LdH78u45VXYm"
      },
      "id": "LdH78u45VXYm"
    },
    {
      "cell_type": "markdown",
      "metadata": {
        "id": "QK2uZNxU3t5l"
      },
      "source": [
        "## Analisis pengaruh status perkawinan terhadap jangka waktu meminjam "
      ],
      "id": "QK2uZNxU3t5l"
    },
    {
      "cell_type": "markdown",
      "source": [
        ""
      ],
      "metadata": {
        "id": "PWziGMp6VV_c"
      },
      "id": "PWziGMp6VV_c"
    },
    {
      "cell_type": "code",
      "execution_count": 9,
      "metadata": {
        "colab": {
          "base_uri": "https://localhost:8080/"
        },
        "id": "UlhyCdMh3t5m",
        "outputId": "fbd35a15-e5eb-4da1-a977-f8cb466110b6"
      },
      "outputs": [
        {
          "output_type": "stream",
          "name": "stdout",
          "text": [
            "value counts of column married\n",
            "Yes    403\n",
            "No     215\n",
            "Name: married, dtype: int64\n",
            "------------------------------ \n",
            "\n",
            "value counts of column loan_amount\n",
            "110000    25\n",
            "120000    21\n",
            "100000    21\n",
            "187000    12\n",
            "160000    12\n",
            "          ..\n",
            "58000      1\n",
            "149000     1\n",
            "101000     1\n",
            "59000      1\n",
            "145000     1\n",
            "Name: loan_amount, Length: 203, dtype: int64\n",
            "------------------------------ \n",
            "\n",
            "value counts of column loan_term_month\n",
            "360    533\n",
            "180     44\n",
            "480     15\n",
            "300     13\n",
            "240      4\n",
            "84       4\n",
            "120      3\n",
            "60       2\n",
            "36       2\n",
            "12       1\n",
            "Name: loan_term_month, dtype: int64\n",
            "------------------------------ \n",
            "\n",
            "value counts of column loan_term_year\n",
            "30    533\n",
            "15     44\n",
            "40     15\n",
            "25     13\n",
            "20      4\n",
            "7       4\n",
            "10      3\n",
            "5       2\n",
            "3       2\n",
            "1       1\n",
            "Name: loan_term_year, dtype: int64\n",
            "------------------------------ \n",
            "\n"
          ]
        }
      ],
      "source": [
        "cats_updated = ['married','loan_amount','loan_term_month','loan_term_year']\n",
        "\n",
        "for col in cats_updated:\n",
        "  print(f'value counts of column {col}')\n",
        "  print(df[col].value_counts())\n",
        "  print('---'*10, '\\n')"
      ],
      "id": "UlhyCdMh3t5m"
    },
    {
      "cell_type": "markdown",
      "source": [
        "berdasarkan status perkawinan, pelanggan atau nasabah yang sudah berstatus menikah lebih sering meminjam atau datanya sering muncul selama setahun ini"
      ],
      "metadata": {
        "id": "SREjKC-QVz0c"
      },
      "id": "SREjKC-QVz0c"
    },
    {
      "cell_type": "code",
      "execution_count": 10,
      "metadata": {
        "id": "jYTCtxf2VePx",
        "colab": {
          "base_uri": "https://localhost:8080/"
        },
        "outputId": "47e17819-b6a6-4390-82d2-5c3f66bffa1e"
      },
      "outputs": [
        {
          "output_type": "stream",
          "name": "stdout",
          "text": [
            "<class 'pandas.core.frame.DataFrame'>\n",
            "RangeIndex: 621 entries, 0 to 620\n",
            "Data columns (total 17 columns):\n",
            " #   Column              Non-Null Count  Dtype  \n",
            "---  ------              --------------  -----  \n",
            " 0   loan_id             621 non-null    object \n",
            " 1   birth_date          572 non-null    object \n",
            " 2   phone_number        569 non-null    float64\n",
            " 3   gender              608 non-null    object \n",
            " 4   married             618 non-null    object \n",
            " 5   dependents          605 non-null    object \n",
            " 6   education           620 non-null    object \n",
            " 7   self_employed       588 non-null    object \n",
            " 8   applicant_income    612 non-null    float64\n",
            " 9   coapplicant_income  621 non-null    float64\n",
            " 10  loan_amount         621 non-null    int64  \n",
            " 11  loan_term_month     621 non-null    int64  \n",
            " 12  loan_term_year      621 non-null    int64  \n",
            " 13  credit_history      570 non-null    float64\n",
            " 14  has_credit_card     88 non-null     object \n",
            " 15  property_type       620 non-null    object \n",
            " 16  loan_status         621 non-null    object \n",
            "dtypes: float64(4), int64(3), object(10)\n",
            "memory usage: 82.6+ KB\n"
          ]
        }
      ],
      "source": [
        "df.info()"
      ],
      "id": "jYTCtxf2VePx"
    },
    {
      "cell_type": "code",
      "source": [
        ""
      ],
      "metadata": {
        "id": "eM4ayQ7bU__X"
      },
      "id": "eM4ayQ7bU__X",
      "execution_count": null,
      "outputs": []
    }
  ],
  "metadata": {
    "colab": {
      "collapsed_sections": [],
      "name": "Template_Homework_RTC_.ipynb",
      "provenance": []
    },
    "kernelspec": {
      "display_name": "Python 3",
      "language": "python",
      "name": "python3"
    },
    "language_info": {
      "codemirror_mode": {
        "name": "ipython",
        "version": 3
      },
      "file_extension": ".py",
      "mimetype": "text/x-python",
      "name": "python",
      "nbconvert_exporter": "python",
      "pygments_lexer": "ipython3",
      "version": "3.8.10"
    }
  },
  "nbformat": 4,
  "nbformat_minor": 5
}