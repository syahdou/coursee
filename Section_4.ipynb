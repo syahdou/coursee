{
  "cells": [
    {
      "cell_type": "code",
      "execution_count": 2,
      "metadata": {
        "colab": {
          "base_uri": "https://localhost:8080/"
        },
        "id": "VaCtxcQUZmmg",
        "outputId": "ba019e6a-cd27-404f-acc2-0728ad9ea4f0"
      },
      "outputs": [
        {
          "output_type": "stream",
          "name": "stdout",
          "text": [
            "Drive already mounted at /content/drive; to attempt to forcibly remount, call drive.mount(\"/content/drive\", force_remount=True).\n"
          ]
        }
      ],
      "source": [
        "from google.colab import drive\n",
        "drive.mount('/content/drive')\n",
        "\n",
        "import numpy as np\n",
        "import pandas as pd\n",
        "import matplotlib.pyplot as plt\n",
        "import seaborn as sns"
      ]
    },
    {
      "cell_type": "code",
      "execution_count": 3,
      "metadata": {
        "id": "Wu9lvBhnZmml"
      },
      "outputs": [],
      "source": [
        "df = pd.read_csv('/content/drive/MyDrive/Rakamin/Take_Home/loan_customer.csv')"
      ]
    },
    {
      "cell_type": "markdown",
      "metadata": {
        "id": "3vx37UI6Zmmn"
      },
      "source": [
        "###### Buatlah kesimpulan dari hasil analisismu di section 2 dan 3. Kira-kira bagaimana karakteristik nasabah yang mengajukan pinjaman pada bank."
      ]
    },
    {
      "cell_type": "markdown",
      "metadata": {
        "id": "mrwz6Ty8Zmmq"
      },
      "source": [
        "*dari section 2 dan 3 dapat disimpulkan bahwa nasabah yang banyak mengajukan pinjaman selama setahun ialah nasabah yang sudah berstatus menikah dan properti rumah yang paling banyak diminati oleh nasabah laki-laki ,sedangkan oleh nasabah prempuan lebih banyak memilih apertemen dibandingkan studio dan rumah*"
      ]
    },
    {
      "cell_type": "code",
      "execution_count": null,
      "metadata": {
        "id": "Gyipk3_nTb95"
      },
      "outputs": [],
      "source": [
        ""
      ]
    }
  ],
  "metadata": {
    "colab": {
      "name": "Section_4.ipynb",
      "provenance": []
    },
    "kernelspec": {
      "display_name": "Python 3",
      "language": "python",
      "name": "python3"
    },
    "language_info": {
      "codemirror_mode": {
        "name": "ipython",
        "version": 3
      },
      "file_extension": ".py",
      "mimetype": "text/x-python",
      "name": "python",
      "nbconvert_exporter": "python",
      "pygments_lexer": "ipython3",
      "version": "3.8.10"
    }
  },
  "nbformat": 4,
  "nbformat_minor": 0
}