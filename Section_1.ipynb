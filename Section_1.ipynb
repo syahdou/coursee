{
  "cells": [
    {
      "cell_type": "code",
      "execution_count": 1,
      "metadata": {
        "colab": {
          "base_uri": "https://localhost:8080/"
        },
        "id": "-_KvSojRLXOR",
        "outputId": "d0cf4501-3aa5-4e03-8017-b52f08fa75ec"
      },
      "outputs": [
        {
          "output_type": "stream",
          "name": "stdout",
          "text": [
            "Mounted at /content/drive\n"
          ]
        }
      ],
      "source": [
        "from google.colab import drive\n",
        "drive.mount('/content/drive')\n",
        "\n",
        "import numpy as np\n",
        "import pandas as pd\n",
        "import matplotlib.pyplot as plt\n",
        "import seaborn as sns"
      ]
    },
    {
      "cell_type": "code",
      "execution_count": 2,
      "metadata": {
        "id": "yfBIhNubLXOZ"
      },
      "outputs": [],
      "source": [
        "df = pd.read_csv('/content/drive/MyDrive/Rakamin/Take_Home/loan_customer.csv')"
      ]
    },
    {
      "cell_type": "markdown",
      "metadata": {
        "id": "Yw185lFxLXOb"
      },
      "source": [
        "**Membersihkan Data**"
      ]
    },
    {
      "cell_type": "markdown",
      "metadata": {
        "id": "p971aOJlLXOd"
      },
      "source": [
        "# Handling duplicated data"
      ]
    },
    {
      "cell_type": "code",
      "execution_count": 3,
      "metadata": {
        "colab": {
          "base_uri": "https://localhost:8080/"
        },
        "id": "nDn-HKUKLXOf",
        "outputId": "349b64bf-3f82-4dda-e05a-5e083b2227ac"
      },
      "outputs": [
        {
          "output_type": "execute_result",
          "data": {
            "text/plain": [
              "1"
            ]
          },
          "metadata": {},
          "execution_count": 3
        }
      ],
      "source": [
        "df.duplicated().sum()"
      ]
    },
    {
      "cell_type": "markdown",
      "metadata": {
        "id": "lctouKrQLXOi"
      },
      "source": [
        "# Handling missing value"
      ]
    },
    {
      "cell_type": "code",
      "execution_count": 4,
      "metadata": {
        "colab": {
          "base_uri": "https://localhost:8080/"
        },
        "id": "C1hgo2zQLXOl",
        "outputId": "4a0974ed-c7a9-4292-d41f-551dc615cce9"
      },
      "outputs": [
        {
          "output_type": "execute_result",
          "data": {
            "text/plain": [
              "d                       0\n",
              "birth_date             49\n",
              "phone_number           52\n",
              "gender                 13\n",
              "married                 3\n",
              "dependents             16\n",
              "education               1\n",
              "self_employed          33\n",
              "applicant_income        9\n",
              "coapplicant_income      0\n",
              "loan_amount             0\n",
              "loan_term_month         0\n",
              "loan_term_year          0\n",
              "credit_history         51\n",
              "has_credit_card       533\n",
              "property_type           1\n",
              "loan_status             0\n",
              "dtype: int64"
            ]
          },
          "metadata": {},
          "execution_count": 4
        }
      ],
      "source": [
        "df.isna().sum()"
      ]
    },
    {
      "cell_type": "markdown",
      "metadata": {
        "id": "yxkBvcqucaIZ"
      },
      "source": [
        "Menghapus nilai yang hilang"
      ]
    },
    {
      "cell_type": "code",
      "execution_count": 5,
      "metadata": {
        "id": "FFIjyyacc1pN"
      },
      "outputs": [],
      "source": [
        "df = df.dropna()"
      ]
    },
    {
      "cell_type": "code",
      "execution_count": 6,
      "metadata": {
        "colab": {
          "base_uri": "https://localhost:8080/"
        },
        "id": "JGweh1u7dGtA",
        "outputId": "bd039266-e413-4ea8-b24e-aad17771b8de"
      },
      "outputs": [
        {
          "output_type": "execute_result",
          "data": {
            "text/plain": [
              "d                     0\n",
              "birth_date            0\n",
              "phone_number          0\n",
              "gender                0\n",
              "married               0\n",
              "dependents            0\n",
              "education             0\n",
              "self_employed         0\n",
              "applicant_income      0\n",
              "coapplicant_income    0\n",
              "loan_amount           0\n",
              "loan_term_month       0\n",
              "loan_term_year        0\n",
              "credit_history        0\n",
              "has_credit_card       0\n",
              "property_type         0\n",
              "loan_status           0\n",
              "dtype: int64"
            ]
          },
          "metadata": {},
          "execution_count": 6
        }
      ],
      "source": [
        "df.isna().sum()"
      ]
    },
    {
      "cell_type": "markdown",
      "metadata": {
        "id": "NIWMW7GbdOOs"
      },
      "source": [
        "menghapus data yang terduplicate"
      ]
    },
    {
      "cell_type": "code",
      "execution_count": 7,
      "metadata": {
        "colab": {
          "base_uri": "https://localhost:8080/"
        },
        "id": "MpRcX7A7dSZU",
        "outputId": "6dcb64df-3ae4-4e59-dafc-0f2ebcf24d99"
      },
      "outputs": [
        {
          "output_type": "stream",
          "name": "stdout",
          "text": [
            "0\n",
            "0\n"
          ]
        }
      ],
      "source": [
        "print(df.duplicated().sum())\n",
        "df.drop_duplicates(inplace=True)\n",
        "print(df.duplicated().sum())"
      ]
    },
    {
      "cell_type": "markdown",
      "metadata": {
        "id": "DtNSPo7uLXOm"
      },
      "source": [
        "# Handling outlier"
      ]
    },
    {
      "cell_type": "code",
      "execution_count": null,
      "metadata": {
        "colab": {
          "base_uri": "https://localhost:8080/",
          "height": 70
        },
        "id": "vcGgiXUieMOu",
        "outputId": "595c41f1-8089-4d76-e65e-e9a76f8e8c57"
      },
      "outputs": [
        {
          "data": {
            "application/vnd.google.colaboratory.intrinsic+json": {
              "type": "string"
            },
            "text/plain": [
              "\"print(df'Jumlah baris sebelum memfilter outlier: {len(df)}')\\n\\nfor col in ['dependents','applicant_income', 'coapplicant_income', 'loan_amount']:\\n  Q1 = df[col].quantile(0.25)\\n  Q3 = df[col].quantile(0.75)\\n  IQR = Q3-Q1\\n  low_limit = Q1 - 1.5*IQR\\n  high_limit = Q3 + 1.5*IQR\\n  df = df[(df[col] >= low_limit) & (df[col] <= high_limit)]\\n\\nprint(df'Jumlah baris setelah memfilter outlier: {len(df)}')\\n\""
            ]
          },
          "execution_count": 15,
          "metadata": {},
          "output_type": "execute_result"
        }
      ],
      "source": [
        "'''print(df'Jumlah baris sebelum memfilter outlier: {len(df)}')\n",
        "\n",
        "for col in ['dependents','applicant_income', 'coapplicant_income', 'loan_amount']:\n",
        "  Q1 = df[col].quantile(0.25)\n",
        "  Q3 = df[col].quantile(0.75)\n",
        "  IQR = Q3-Q1\n",
        "  low_limit = Q1 - 1.5*IQR\n",
        "  high_limit = Q3 + 1.5*IQR\n",
        "  df = df[(df[col] >= low_limit) & (df[col] <= high_limit)]\n",
        "\n",
        "print(df'Jumlah baris setelah memfilter outlier: {len(df)}')\n",
        "'''"
      ]
    },
    {
      "cell_type": "markdown",
      "metadata": {
        "id": "mHu-17KrLXOo"
      },
      "source": [
        "# Feature encoding"
      ]
    },
    {
      "cell_type": "code",
      "execution_count": 8,
      "metadata": {
        "colab": {
          "base_uri": "https://localhost:8080/"
        },
        "id": "2emqt0SjLXOp",
        "outputId": "eb5fe200-bf73-4e2b-aeb5-36df7182b670"
      },
      "outputs": [
        {
          "output_type": "stream",
          "name": "stdout",
          "text": [
            "value counts of column gender\n",
            "Male      42\n",
            "Female    10\n",
            "Name: gender, dtype: int64\n",
            "------------------------------ \n",
            "\n",
            "value counts of column married\n",
            "Yes    32\n",
            "No     20\n",
            "Name: married, dtype: int64\n",
            "------------------------------ \n",
            "\n",
            "value counts of column education\n",
            "Graduate        37\n",
            "Not Graduate    15\n",
            "Name: education, dtype: int64\n",
            "------------------------------ \n",
            "\n",
            "value counts of column self_employed\n",
            "No     42\n",
            "Yes    10\n",
            "Name: self_employed, dtype: int64\n",
            "------------------------------ \n",
            "\n"
          ]
        }
      ],
      "source": [
        "# pengecekan nilai/entri dari kolom-kolom kategorikal\n",
        "cats_updated = ['gender', 'married', 'education', 'self_employed']\n",
        "\n",
        "for col in cats_updated:\n",
        "  print(f'value counts of column {col}')\n",
        "  print(df[col].value_counts())\n",
        "  print('---'*10, '\\n')"
      ]
    },
    {
      "cell_type": "code",
      "execution_count": 9,
      "metadata": {
        "id": "I8KVml4tgZaH"
      },
      "outputs": [],
      "source": [
        "mapping_gender = {\n",
        "    'Female' : 0,\n",
        "    'Male' : 1\n",
        "}\n",
        "\n",
        "mapping_married = {\n",
        "    'No' : 0,\n",
        "    'Yes' : 1\n",
        "}\n",
        "\n",
        "mapping_education = {\n",
        "    'Not Graduate' : 0,\n",
        "    'Graduate' : 1\n",
        "}\n",
        "\n",
        "mapping_self_employed = {\n",
        "    'No' : 0,\n",
        "    'Yes' : 1\n",
        "}\n",
        "\n",
        "df['gender'] = df['gender'].map(mapping_gender)\n",
        "df['married'] = df['married'].map(mapping_married)\n",
        "df['education'] = df['education'].map(mapping_education)\n",
        "df['self_employed'] = df['self_employed'].map(mapping_self_employed)"
      ]
    },
    {
      "cell_type": "code",
      "execution_count": 10,
      "metadata": {
        "colab": {
          "base_uri": "https://localhost:8080/",
          "height": 427
        },
        "id": "yanHKjWriWfP",
        "outputId": "9139d0c3-c974-42cd-c5b8-260bd7c6d9f1"
      },
      "outputs": [
        {
          "output_type": "execute_result",
          "data": {
            "text/html": [
              "\n",
              "  <div id=\"df-98bac782-b81e-4522-b495-02cdabc89f9a\">\n",
              "    <div class=\"colab-df-container\">\n",
              "      <div>\n",
              "<style scoped>\n",
              "    .dataframe tbody tr th:only-of-type {\n",
              "        vertical-align: middle;\n",
              "    }\n",
              "\n",
              "    .dataframe tbody tr th {\n",
              "        vertical-align: top;\n",
              "    }\n",
              "\n",
              "    .dataframe thead th {\n",
              "        text-align: right;\n",
              "    }\n",
              "</style>\n",
              "<table border=\"1\" class=\"dataframe\">\n",
              "  <thead>\n",
              "    <tr style=\"text-align: right;\">\n",
              "      <th></th>\n",
              "      <th>d</th>\n",
              "      <th>birth_date</th>\n",
              "      <th>phone_number</th>\n",
              "      <th>gender</th>\n",
              "      <th>married</th>\n",
              "      <th>dependents</th>\n",
              "      <th>education</th>\n",
              "      <th>self_employed</th>\n",
              "      <th>applicant_income</th>\n",
              "      <th>coapplicant_income</th>\n",
              "      <th>loan_amount</th>\n",
              "      <th>loan_term_month</th>\n",
              "      <th>loan_term_year</th>\n",
              "      <th>credit_history</th>\n",
              "      <th>has_credit_card</th>\n",
              "      <th>property_type</th>\n",
              "      <th>loan_status</th>\n",
              "    </tr>\n",
              "  </thead>\n",
              "  <tbody>\n",
              "    <tr>\n",
              "      <th>12</th>\n",
              "      <td>LP001028</td>\n",
              "      <td>16/11/1987</td>\n",
              "      <td>6.280000e+11</td>\n",
              "      <td>1</td>\n",
              "      <td>1</td>\n",
              "      <td>2</td>\n",
              "      <td>1</td>\n",
              "      <td>0</td>\n",
              "      <td>3073.0</td>\n",
              "      <td>8106.0</td>\n",
              "      <td>200000</td>\n",
              "      <td>360</td>\n",
              "      <td>30</td>\n",
              "      <td>1.0</td>\n",
              "      <td>no</td>\n",
              "      <td>house</td>\n",
              "      <td>APPROVE</td>\n",
              "    </tr>\n",
              "    <tr>\n",
              "      <th>21</th>\n",
              "      <td>LP001046</td>\n",
              "      <td>25/06/1984</td>\n",
              "      <td>6.290000e+11</td>\n",
              "      <td>1</td>\n",
              "      <td>1</td>\n",
              "      <td>1</td>\n",
              "      <td>1</td>\n",
              "      <td>0</td>\n",
              "      <td>5955.0</td>\n",
              "      <td>5625.0</td>\n",
              "      <td>315000</td>\n",
              "      <td>360</td>\n",
              "      <td>30</td>\n",
              "      <td>1.0</td>\n",
              "      <td>no</td>\n",
              "      <td>house</td>\n",
              "      <td>APPROVE</td>\n",
              "    </tr>\n",
              "    <tr>\n",
              "      <th>26</th>\n",
              "      <td>LP001068</td>\n",
              "      <td>10/09/1986</td>\n",
              "      <td>6.280000e+11</td>\n",
              "      <td>1</td>\n",
              "      <td>1</td>\n",
              "      <td>0</td>\n",
              "      <td>1</td>\n",
              "      <td>0</td>\n",
              "      <td>2799.0</td>\n",
              "      <td>2253.0</td>\n",
              "      <td>122000</td>\n",
              "      <td>360</td>\n",
              "      <td>30</td>\n",
              "      <td>1.0</td>\n",
              "      <td>no</td>\n",
              "      <td>apartment</td>\n",
              "      <td>APPROVE</td>\n",
              "    </tr>\n",
              "    <tr>\n",
              "      <th>27</th>\n",
              "      <td>LP001073</td>\n",
              "      <td>05/02/1989</td>\n",
              "      <td>6.280000e+11</td>\n",
              "      <td>1</td>\n",
              "      <td>1</td>\n",
              "      <td>2</td>\n",
              "      <td>0</td>\n",
              "      <td>0</td>\n",
              "      <td>4226.0</td>\n",
              "      <td>1040.0</td>\n",
              "      <td>110000</td>\n",
              "      <td>360</td>\n",
              "      <td>30</td>\n",
              "      <td>1.0</td>\n",
              "      <td>yes</td>\n",
              "      <td>house</td>\n",
              "      <td>APPROVE</td>\n",
              "    </tr>\n",
              "    <tr>\n",
              "      <th>28</th>\n",
              "      <td>LP001086</td>\n",
              "      <td>21/11/1978</td>\n",
              "      <td>6.285222e+10</td>\n",
              "      <td>1</td>\n",
              "      <td>0</td>\n",
              "      <td>0</td>\n",
              "      <td>0</td>\n",
              "      <td>0</td>\n",
              "      <td>1442.0</td>\n",
              "      <td>0.0</td>\n",
              "      <td>35000</td>\n",
              "      <td>360</td>\n",
              "      <td>30</td>\n",
              "      <td>1.0</td>\n",
              "      <td>no</td>\n",
              "      <td>house</td>\n",
              "      <td>REJECT</td>\n",
              "    </tr>\n",
              "    <tr>\n",
              "      <th>31</th>\n",
              "      <td>LP001095</td>\n",
              "      <td>21/09/1983</td>\n",
              "      <td>6.280000e+11</td>\n",
              "      <td>1</td>\n",
              "      <td>0</td>\n",
              "      <td>0</td>\n",
              "      <td>1</td>\n",
              "      <td>0</td>\n",
              "      <td>3167.0</td>\n",
              "      <td>0.0</td>\n",
              "      <td>74000</td>\n",
              "      <td>360</td>\n",
              "      <td>30</td>\n",
              "      <td>1.0</td>\n",
              "      <td>yes</td>\n",
              "      <td>house</td>\n",
              "      <td>REJECT</td>\n",
              "    </tr>\n",
              "    <tr>\n",
              "      <th>43</th>\n",
              "      <td>LP001131</td>\n",
              "      <td>09/11/1986</td>\n",
              "      <td>6.287723e+10</td>\n",
              "      <td>1</td>\n",
              "      <td>1</td>\n",
              "      <td>0</td>\n",
              "      <td>1</td>\n",
              "      <td>0</td>\n",
              "      <td>3941.0</td>\n",
              "      <td>2336.0</td>\n",
              "      <td>134000</td>\n",
              "      <td>360</td>\n",
              "      <td>30</td>\n",
              "      <td>1.0</td>\n",
              "      <td>no</td>\n",
              "      <td>apartment</td>\n",
              "      <td>APPROVE</td>\n",
              "    </tr>\n",
              "    <tr>\n",
              "      <th>47</th>\n",
              "      <td>LP001144</td>\n",
              "      <td>31/08/1984</td>\n",
              "      <td>6.290000e+11</td>\n",
              "      <td>1</td>\n",
              "      <td>1</td>\n",
              "      <td>0</td>\n",
              "      <td>1</td>\n",
              "      <td>0</td>\n",
              "      <td>5821.0</td>\n",
              "      <td>0.0</td>\n",
              "      <td>144000</td>\n",
              "      <td>360</td>\n",
              "      <td>30</td>\n",
              "      <td>1.0</td>\n",
              "      <td>yes</td>\n",
              "      <td>house</td>\n",
              "      <td>APPROVE</td>\n",
              "    </tr>\n",
              "    <tr>\n",
              "      <th>72</th>\n",
              "      <td>LP001248</td>\n",
              "      <td>07/06/1986</td>\n",
              "      <td>6.280000e+11</td>\n",
              "      <td>1</td>\n",
              "      <td>0</td>\n",
              "      <td>0</td>\n",
              "      <td>1</td>\n",
              "      <td>0</td>\n",
              "      <td>3500.0</td>\n",
              "      <td>0.0</td>\n",
              "      <td>81000</td>\n",
              "      <td>300</td>\n",
              "      <td>25</td>\n",
              "      <td>1.0</td>\n",
              "      <td>no</td>\n",
              "      <td>apartment</td>\n",
              "      <td>APPROVE</td>\n",
              "    </tr>\n",
              "    <tr>\n",
              "      <th>75</th>\n",
              "      <td>LP001255</td>\n",
              "      <td>12/07/1980</td>\n",
              "      <td>6.290000e+11</td>\n",
              "      <td>1</td>\n",
              "      <td>0</td>\n",
              "      <td>0</td>\n",
              "      <td>1</td>\n",
              "      <td>0</td>\n",
              "      <td>3750.0</td>\n",
              "      <td>0.0</td>\n",
              "      <td>113000</td>\n",
              "      <td>480</td>\n",
              "      <td>40</td>\n",
              "      <td>1.0</td>\n",
              "      <td>yes</td>\n",
              "      <td>house</td>\n",
              "      <td>REJECT</td>\n",
              "    </tr>\n",
              "  </tbody>\n",
              "</table>\n",
              "</div>\n",
              "      <button class=\"colab-df-convert\" onclick=\"convertToInteractive('df-98bac782-b81e-4522-b495-02cdabc89f9a')\"\n",
              "              title=\"Convert this dataframe to an interactive table.\"\n",
              "              style=\"display:none;\">\n",
              "        \n",
              "  <svg xmlns=\"http://www.w3.org/2000/svg\" height=\"24px\"viewBox=\"0 0 24 24\"\n",
              "       width=\"24px\">\n",
              "    <path d=\"M0 0h24v24H0V0z\" fill=\"none\"/>\n",
              "    <path d=\"M18.56 5.44l.94 2.06.94-2.06 2.06-.94-2.06-.94-.94-2.06-.94 2.06-2.06.94zm-11 1L8.5 8.5l.94-2.06 2.06-.94-2.06-.94L8.5 2.5l-.94 2.06-2.06.94zm10 10l.94 2.06.94-2.06 2.06-.94-2.06-.94-.94-2.06-.94 2.06-2.06.94z\"/><path d=\"M17.41 7.96l-1.37-1.37c-.4-.4-.92-.59-1.43-.59-.52 0-1.04.2-1.43.59L10.3 9.45l-7.72 7.72c-.78.78-.78 2.05 0 2.83L4 21.41c.39.39.9.59 1.41.59.51 0 1.02-.2 1.41-.59l7.78-7.78 2.81-2.81c.8-.78.8-2.07 0-2.86zM5.41 20L4 18.59l7.72-7.72 1.47 1.35L5.41 20z\"/>\n",
              "  </svg>\n",
              "      </button>\n",
              "      \n",
              "  <style>\n",
              "    .colab-df-container {\n",
              "      display:flex;\n",
              "      flex-wrap:wrap;\n",
              "      gap: 12px;\n",
              "    }\n",
              "\n",
              "    .colab-df-convert {\n",
              "      background-color: #E8F0FE;\n",
              "      border: none;\n",
              "      border-radius: 50%;\n",
              "      cursor: pointer;\n",
              "      display: none;\n",
              "      fill: #1967D2;\n",
              "      height: 32px;\n",
              "      padding: 0 0 0 0;\n",
              "      width: 32px;\n",
              "    }\n",
              "\n",
              "    .colab-df-convert:hover {\n",
              "      background-color: #E2EBFA;\n",
              "      box-shadow: 0px 1px 2px rgba(60, 64, 67, 0.3), 0px 1px 3px 1px rgba(60, 64, 67, 0.15);\n",
              "      fill: #174EA6;\n",
              "    }\n",
              "\n",
              "    [theme=dark] .colab-df-convert {\n",
              "      background-color: #3B4455;\n",
              "      fill: #D2E3FC;\n",
              "    }\n",
              "\n",
              "    [theme=dark] .colab-df-convert:hover {\n",
              "      background-color: #434B5C;\n",
              "      box-shadow: 0px 1px 3px 1px rgba(0, 0, 0, 0.15);\n",
              "      filter: drop-shadow(0px 1px 2px rgba(0, 0, 0, 0.3));\n",
              "      fill: #FFFFFF;\n",
              "    }\n",
              "  </style>\n",
              "\n",
              "      <script>\n",
              "        const buttonEl =\n",
              "          document.querySelector('#df-98bac782-b81e-4522-b495-02cdabc89f9a button.colab-df-convert');\n",
              "        buttonEl.style.display =\n",
              "          google.colab.kernel.accessAllowed ? 'block' : 'none';\n",
              "\n",
              "        async function convertToInteractive(key) {\n",
              "          const element = document.querySelector('#df-98bac782-b81e-4522-b495-02cdabc89f9a');\n",
              "          const dataTable =\n",
              "            await google.colab.kernel.invokeFunction('convertToInteractive',\n",
              "                                                     [key], {});\n",
              "          if (!dataTable) return;\n",
              "\n",
              "          const docLinkHtml = 'Like what you see? Visit the ' +\n",
              "            '<a target=\"_blank\" href=https://colab.research.google.com/notebooks/data_table.ipynb>data table notebook</a>'\n",
              "            + ' to learn more about interactive tables.';\n",
              "          element.innerHTML = '';\n",
              "          dataTable['output_type'] = 'display_data';\n",
              "          await google.colab.output.renderOutput(dataTable, element);\n",
              "          const docLink = document.createElement('div');\n",
              "          docLink.innerHTML = docLinkHtml;\n",
              "          element.appendChild(docLink);\n",
              "        }\n",
              "      </script>\n",
              "    </div>\n",
              "  </div>\n",
              "  "
            ],
            "text/plain": [
              "           d  birth_date  ...  property_type  loan_status\n",
              "12  LP001028  16/11/1987  ...          house      APPROVE\n",
              "21  LP001046  25/06/1984  ...          house      APPROVE\n",
              "26  LP001068  10/09/1986  ...      apartment      APPROVE\n",
              "27  LP001073  05/02/1989  ...          house      APPROVE\n",
              "28  LP001086  21/11/1978  ...          house       REJECT\n",
              "31  LP001095  21/09/1983  ...          house       REJECT\n",
              "43  LP001131  09/11/1986  ...      apartment      APPROVE\n",
              "47  LP001144  31/08/1984  ...          house      APPROVE\n",
              "72  LP001248  07/06/1986  ...      apartment      APPROVE\n",
              "75  LP001255  12/07/1980  ...          house       REJECT\n",
              "\n",
              "[10 rows x 17 columns]"
            ]
          },
          "metadata": {},
          "execution_count": 10
        }
      ],
      "source": [
        "df.head(10)"
      ]
    },
    {
      "cell_type": "code",
      "execution_count": 11,
      "metadata": {
        "id": "Rq_aU4UKYoE7",
        "colab": {
          "base_uri": "https://localhost:8080/"
        },
        "outputId": "571f11ff-870a-4fa4-a4ad-1af87355ae0e"
      },
      "outputs": [
        {
          "output_type": "stream",
          "name": "stdout",
          "text": [
            "<class 'pandas.core.frame.DataFrame'>\n",
            "Int64Index: 52 entries, 12 to 613\n",
            "Data columns (total 17 columns):\n",
            " #   Column              Non-Null Count  Dtype  \n",
            "---  ------              --------------  -----  \n",
            " 0   d                   52 non-null     object \n",
            " 1   birth_date          52 non-null     object \n",
            " 2   phone_number        52 non-null     float64\n",
            " 3   gender              52 non-null     int64  \n",
            " 4   married             52 non-null     int64  \n",
            " 5   dependents          52 non-null     object \n",
            " 6   education           52 non-null     int64  \n",
            " 7   self_employed       52 non-null     int64  \n",
            " 8   applicant_income    52 non-null     float64\n",
            " 9   coapplicant_income  52 non-null     float64\n",
            " 10  loan_amount         52 non-null     int64  \n",
            " 11  loan_term_month     52 non-null     int64  \n",
            " 12  loan_term_year      52 non-null     int64  \n",
            " 13  credit_history      52 non-null     float64\n",
            " 14  has_credit_card     52 non-null     object \n",
            " 15  property_type       52 non-null     object \n",
            " 16  loan_status         52 non-null     object \n",
            "dtypes: float64(4), int64(7), object(6)\n",
            "memory usage: 7.3+ KB\n"
          ]
        }
      ],
      "source": [
        "# informasi dataframe yang sudah di-preprocessing\n",
        "df.info()"
      ]
    },
    {
      "cell_type": "code",
      "source": [
        ""
      ],
      "metadata": {
        "id": "J381yPNBWk0t"
      },
      "execution_count": null,
      "outputs": []
    }
  ],
  "metadata": {
    "colab": {
      "name": "Section_1.ipynb",
      "provenance": []
    },
    "kernelspec": {
      "display_name": "Python 3",
      "language": "python",
      "name": "python3"
    },
    "language_info": {
      "codemirror_mode": {
        "name": "ipython",
        "version": 3
      },
      "file_extension": ".py",
      "mimetype": "text/x-python",
      "name": "python",
      "nbconvert_exporter": "python",
      "pygments_lexer": "ipython3",
      "version": "3.8.10"
    }
  },
  "nbformat": 4,
  "nbformat_minor": 0
}